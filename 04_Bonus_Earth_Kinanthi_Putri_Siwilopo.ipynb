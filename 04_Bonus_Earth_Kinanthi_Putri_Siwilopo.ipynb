{
  "nbformat": 4,
  "nbformat_minor": 0,
  "metadata": {
    "colab": {
      "provenance": []
    },
    "kernelspec": {
      "name": "python3",
      "display_name": "Python 3"
    },
    "language_info": {
      "name": "python"
    }
  },
  "cells": [
    {
      "cell_type": "code",
      "source": [
        "import torch\n",
        "import torch.nn as nn\n",
        "import torch.optim as optim\n",
        "import torchvision\n",
        "from torchvision.transforms import ToTensor\n",
        "from sklearn.metrics import accuracy_score, confusion_matrix, f1_score, precision_score, recall_score\n",
        "\n",
        "train_data = torchvision.datasets.MNIST(root='data', train=True, transform=ToTensor(), download=True)\n",
        "test_data = torchvision.datasets.MNIST(root='data', train=False, transform=ToTensor(), download=True)\n",
        "\n",
        "train_loader = torch.utils.data.DataLoader(train_data, batch_size=128, shuffle=True)\n",
        "test_loader = torch.utils.data.DataLoader(test_data, batch_size=128, shuffle=False)\n",
        "\n",
        "# Define the loss function (criterion)\n",
        "criterion = nn.CrossEntropyLoss()\n",
        "\n",
        "def train_and_evaluate(model, activation_function, num_epochs=10):\n",
        "\n",
        "    learning_rate = 0.01\n",
        "    optimizer = optim.SGD(model.parameters(), lr=learning_rate)\n",
        "\n",
        "    for epoch in range(num_epochs):\n",
        "        model.train()\n",
        "        for images, labels in train_loader:\n",
        "            optimizer.zero_grad()\n",
        "            outputs = model(images)\n",
        "            loss = criterion(outputs, labels)\n",
        "            loss.backward()\n",
        "            optimizer.step()\n",
        "\n",
        "        model.eval()\n",
        "        with torch.no_grad():\n",
        "            all_preds = []\n",
        "            all_labels = []\n",
        "            for images, labels in test_loader:\n",
        "                outputs = model(images)\n",
        "                _, preds = torch.max(outputs, 1)\n",
        "                all_preds.extend(preds.cpu().numpy())\n",
        "                all_labels.extend(labels.cpu().numpy())\n",
        "\n",
        "            acc = accuracy_score(all_labels, all_preds)\n",
        "            f1 = f1_score(all_labels, all_preds, average='macro', zero_division=0)\n",
        "            precision = precision_score(all_labels, all_preds, average='macro', zero_division=0)\n",
        "            recall = recall_score(all_labels, all_preds, average='macro', zero_division=0)\n",
        "\n",
        "        print(f'Epoch {epoch + 1}: Accuracy={acc:.4f}, F1 Score={f1:.4f}, Precision={precision:.4f}, Recall={recall:.4f}')\n",
        "\n",
        "class SimpleModel(nn.Module):\n",
        "    def __init__(self, activation_function):\n",
        "        super(SimpleModel, self).__init__()\n",
        "        self.flatten = nn.Flatten()\n",
        "        self.fc1 = nn.Linear(28*28, 256)\n",
        "        self.activation = activation_function\n",
        "        self.fc2 = nn.Linear(256, 10)\n",
        "\n",
        "    def forward(self, x):\n",
        "        x = self.flatten(x)\n",
        "        x = self.fc1(x)\n",
        "        x = self.activation(x)\n",
        "        x = self.fc2(x)\n",
        "        return x\n",
        "\n",
        "activation_functions = [nn.ReLU(), nn.Sigmoid(), nn.Tanh()]\n",
        "\n",
        "for activation_function in activation_functions:\n",
        "    model = SimpleModel(activation_function)\n",
        "    print(f\"Model with {activation_function.__class__.__name__} Activation:\")\n",
        "    train_and_evaluate(model, activation_function)\n",
        "    print(\"\\n\")"
      ],
      "metadata": {
        "colab": {
          "base_uri": "https://localhost:8080/"
        },
        "id": "RjL6mVSrD8O1",
        "outputId": "649eca4f-927a-4a16-9964-21aa78ab37b6"
      },
      "execution_count": null,
      "outputs": [
        {
          "output_type": "stream",
          "name": "stdout",
          "text": [
            "Model with ReLU Activation:\n",
            "Epoch 1: Accuracy=0.8097, F1 Score=0.7992, Precision=0.8163, Recall=0.8040\n",
            "Epoch 2: Accuracy=0.8654, F1 Score=0.8627, Precision=0.8652, Recall=0.8628\n",
            "Epoch 3: Accuracy=0.8839, F1 Score=0.8817, Precision=0.8832, Recall=0.8818\n",
            "Epoch 4: Accuracy=0.8949, F1 Score=0.8931, Precision=0.8934, Recall=0.8932\n",
            "Epoch 5: Accuracy=0.9004, F1 Score=0.8988, Precision=0.8992, Recall=0.8989\n",
            "Epoch 6: Accuracy=0.9040, F1 Score=0.9024, Precision=0.9029, Recall=0.9025\n",
            "Epoch 7: Accuracy=0.9066, F1 Score=0.9051, Precision=0.9057, Recall=0.9052\n",
            "Epoch 8: Accuracy=0.9096, F1 Score=0.9081, Precision=0.9086, Recall=0.9083\n",
            "Epoch 9: Accuracy=0.9128, F1 Score=0.9115, Precision=0.9120, Recall=0.9116\n",
            "Epoch 10: Accuracy=0.9147, F1 Score=0.9134, Precision=0.9138, Recall=0.9136\n",
            "\n",
            "\n",
            "Model with Sigmoid Activation:\n",
            "Epoch 1: Accuracy=0.5802, F1 Score=0.5111, Precision=0.6424, Recall=0.5663\n",
            "Epoch 2: Accuracy=0.6429, F1 Score=0.6004, Precision=0.7656, Recall=0.6309\n",
            "Epoch 3: Accuracy=0.7417, F1 Score=0.7216, Precision=0.7794, Recall=0.7331\n",
            "Epoch 4: Accuracy=0.7734, F1 Score=0.7589, Precision=0.7989, Recall=0.7663\n",
            "Epoch 5: Accuracy=0.7988, F1 Score=0.7890, Precision=0.8090, Recall=0.7926\n",
            "Epoch 6: Accuracy=0.8149, F1 Score=0.8062, Precision=0.8215, Recall=0.8099\n",
            "Epoch 7: Accuracy=0.8380, F1 Score=0.8337, Precision=0.8373, Recall=0.8345\n",
            "Epoch 8: Accuracy=0.8451, F1 Score=0.8411, Precision=0.8446, Recall=0.8418\n",
            "Epoch 9: Accuracy=0.8538, F1 Score=0.8507, Precision=0.8532, Recall=0.8513\n",
            "Epoch 10: Accuracy=0.8618, F1 Score=0.8588, Precision=0.8606, Recall=0.8594\n",
            "\n",
            "\n",
            "Model with Tanh Activation:\n",
            "Epoch 1: Accuracy=0.8304, F1 Score=0.8234, Precision=0.8369, Recall=0.8256\n",
            "Epoch 2: Accuracy=0.8700, F1 Score=0.8671, Precision=0.8692, Recall=0.8674\n",
            "Epoch 3: Accuracy=0.8855, F1 Score=0.8833, Precision=0.8843, Recall=0.8836\n",
            "Epoch 4: Accuracy=0.8934, F1 Score=0.8915, Precision=0.8920, Recall=0.8918\n",
            "Epoch 5: Accuracy=0.8984, F1 Score=0.8966, Precision=0.8970, Recall=0.8969\n",
            "Epoch 6: Accuracy=0.9015, F1 Score=0.8999, Precision=0.9002, Recall=0.9001\n",
            "Epoch 7: Accuracy=0.9053, F1 Score=0.9037, Precision=0.9041, Recall=0.9039\n",
            "Epoch 8: Accuracy=0.9076, F1 Score=0.9061, Precision=0.9066, Recall=0.9062\n",
            "Epoch 9: Accuracy=0.9099, F1 Score=0.9086, Precision=0.9089, Recall=0.9088\n",
            "Epoch 10: Accuracy=0.9122, F1 Score=0.9109, Precision=0.9110, Recall=0.9111\n",
            "\n",
            "\n"
          ]
        }
      ]
    },
    {
      "cell_type": "code",
      "source": [
        "import torch\n",
        "import torch.nn as nn\n",
        "import torch.optim as optim\n",
        "import torchvision.transforms as transforms\n",
        "import torchvision.datasets as datasets\n",
        "from torch.utils.data import DataLoader\n",
        "from sklearn.metrics import f1_score, precision_score, recall_score\n",
        "\n",
        "# Fungsi untuk melatih model\n",
        "def train_model(model, train_loader, criterion, optimizer, num_epochs=5):\n",
        "    model.train()\n",
        "    for epoch in range(num_epochs):\n",
        "        total_loss = 0.0\n",
        "        for images, labels in train_loader:\n",
        "            images = images.view(-1, 28 * 28)  # Flatten the images\n",
        "            optimizer.zero_grad()\n",
        "            outputs = model(images)\n",
        "            loss = criterion(outputs, labels)\n",
        "            loss.backward()\n",
        "            optimizer.step()\n",
        "            total_loss += loss.item()\n",
        "        print(f\"Epoch {epoch+1}, Loss: {total_loss / len(train_loader)}\")\n",
        "\n",
        "# Fungsi untuk menguji model\n",
        "def test_model(model, test_loader):\n",
        "    model.eval()\n",
        "    correct = 0\n",
        "    total = 0\n",
        "    all_preds = []\n",
        "    all_labels = []\n",
        "\n",
        "    with torch.no_grad():\n",
        "        for images, labels in test_loader:\n",
        "            images = images.view(-1, 28 * 28)  # Flatten the images\n",
        "            outputs = model(images)\n",
        "            _, predicted = torch.max(outputs.data, 1)\n",
        "\n",
        "            total += labels.size(0)\n",
        "            correct += (predicted == labels).sum().item()\n",
        "\n",
        "            all_preds.extend(predicted.cpu().numpy())\n",
        "            all_labels.extend(labels.cpu().numpy())\n",
        "\n",
        "    accuracy = 100 * correct / total\n",
        "    f1 = f1_score(all_labels, all_preds, average='macro')\n",
        "    precision = precision_score(all_labels, all_preds, average='macro')\n",
        "    recall = recall_score(all_labels, all_preds, average='macro')\n",
        "\n",
        "    return accuracy, f1, precision, recall\n",
        "\n",
        "# Menggunakan dataset MNIST\n",
        "transform = transforms.Compose([transforms.ToTensor(), transforms.Normalize((0.5,), (0.5,))])\n",
        "train_dataset = datasets.MNIST(root='./data', train=True, transform=transform, download=True)\n",
        "test_dataset = datasets.MNIST(root='./data', train=False, transform=transform, download=True)\n",
        "\n",
        "# Konfigurasi 1: Model Dangkal\n",
        "class ShallowNN(nn.Module):\n",
        "    def __init__(self):\n",
        "        super(ShallowNN, self).__init__()\n",
        "        self.fc1 = nn.Linear(28 * 28, 128)\n",
        "        self.fc2 = nn.Linear(128, 10)\n",
        "\n",
        "    def forward(self, x):\n",
        "        x = torch.relu(self.fc1(x))\n",
        "        x = self.fc2(x)\n",
        "        return x\n",
        "\n",
        "# Konfigurasi 2: Model Sedang\n",
        "class MediumNN(nn.Module):\n",
        "    def __init__(self):\n",
        "        super(MediumNN, self).__init__()\n",
        "        self.fc1 = nn.Linear(28 * 28, 256)\n",
        "        self.fc2 = nn.Linear(256, 256)\n",
        "        self.fc3 = nn.Linear(256, 10)\n",
        "\n",
        "    def forward(self, x):\n",
        "        x = torch.relu(self.fc1(x))\n",
        "        x = torch.relu(self.fc2(x))\n",
        "        x = self.fc3(x)\n",
        "        return x\n",
        "\n",
        "# Konfigurasi 3: Model Dalam\n",
        "class DeepNN(nn.Module):\n",
        "    def __init__(self):\n",
        "        super(DeepNN, self).__init__()\n",
        "        self.fc1 = nn.Linear(28 * 28, 512)\n",
        "        self.fc2 = nn.Linear(512, 512)\n",
        "        self.fc3 = nn.Linear(512, 512)\n",
        "        self.fc4 = nn.Linear(512, 10)\n",
        "\n",
        "    def forward(self, x):\n",
        "        x = torch.relu(self.fc1(x))\n",
        "        x = torch.relu(self.fc2(x))\n",
        "        x = torch.relu(self.fc3(x))\n",
        "        x = self.fc4(x)\n",
        "        return x\n",
        "\n",
        "# Konfigurasi Fungsi Rugi 1: Cross-Entropy Loss\n",
        "criterion1 = nn.CrossEntropyLoss()\n",
        "\n",
        "# Konfigurasi Fungsi Rugi 2: Mean Squared Error (MSE) Loss\n",
        "criterion2 = nn.MSELoss()\n",
        "\n",
        "# Konfigurasi Fungsi Rugi 3: Hinge Loss (untuk SVM)\n",
        "criterion3 = nn.MultiMarginLoss()\n",
        "\n",
        "# Konfigurasi Fungsi Aktivasi 1: ReLU Activation\n",
        "model1 = ShallowNN()\n",
        "model2 = MediumNN()\n",
        "model3 = DeepNN()\n",
        "\n",
        "# Konfigurasi Fungsi Aktivasi 2: Sigmoid Activation\n",
        "model4 = ShallowNN()\n",
        "model4.fc1 = nn.Sequential(model4.fc1, nn.Sigmoid())\n",
        "model5 = MediumNN()\n",
        "model5.fc1 = nn.Sequential(model5.fc1, nn.Sigmoid())\n",
        "model6 = DeepNN()\n",
        "model6.fc1 = nn.Sequential(model6.fc1, nn.Sigmoid())\n",
        "\n",
        "# Konfigurasi Fungsi Aktivasi 3: Tanh Activation\n",
        "model7 = ShallowNN()\n",
        "model7.fc1 = nn.Sequential(model7.fc1, nn.Tanh())\n",
        "model8 = MediumNN()\n",
        "model8.fc1 = nn.Sequential(model8.fc1, nn.Tanh())\n",
        "model9 = DeepNN()\n",
        "model9.fc1 = nn.Sequential(model9.fc1, nn.Tanh())\n",
        "\n",
        "# Batch size dan optimizer\n",
        "batch_size = 64\n",
        "learning_rate = 0.001\n",
        "optimizer1 = optim.Adam(model1.parameters(), lr=learning_rate)\n",
        "optimizer2 = optim.Adam(model2.parameters(), lr=learning_rate)\n",
        "optimizer3 = optim.Adam(model3.parameters(), lr=learning_rate)\n",
        "\n",
        "# Data loader\n",
        "train_loader = DataLoader(train_dataset, batch_size=batch_size, shuffle=True)\n",
        "test_loader = DataLoader(test_dataset, batch_size=batch_size, shuffle=False)\n",
        "\n",
        "#Latih dan uji model dengan fungsi aktivasi ReLu\n",
        "print(\"Testing Model with ReLU Activation:\")\n",
        "accuracy1, f1_1, precision_1, recall_1 = test_model(model1, test_loader)\n",
        "print(f\"Akurasi: {accuracy1:.2f}%\")\n",
        "print(f\"F1 Score: {f1_1:.4f}\")\n",
        "print(f\"Precision: {precision_1:.4f}\")\n",
        "print(f\"Recall: {recall_1:.4f}\")\n",
        "\n",
        "print(\"Testing Model with ReLU Activation:\")\n",
        "accuracy1, f1_1, precision_1, recall_1 = test_model(model2, test_loader)\n",
        "print(f\"Akurasi: {accuracy1:.2f}%\")\n",
        "print(f\"F1 Score: {f1_1:.4f}\")\n",
        "print(f\"Precision: {precision_1:.4f}\")\n",
        "print(f\"Recall: {recall_1:.4f}\")\n",
        "\n",
        "print(\"Testing Model with ReLU Activation:\")\n",
        "accuracy1, f1_1, precision_1, recall_1 = test_model(model3, test_loader)\n",
        "print(f\"Akurasi: {accuracy1:.2f}%\")\n",
        "print(f\"F1 Score: {f1_1:.4f}\")\n",
        "print(f\"Precision: {precision_1:.4f}\")\n",
        "print(f\"Recall: {recall_1:.4f}\")\n",
        "\n",
        "#Latih dan uji model dengan fungsi aktivasi Sigmoid\n",
        "print(\"Testing Model with Sigmoid Activation:\")\n",
        "accuracy1, f1_1, precision_1, recall_1 = test_model(model4, test_loader)\n",
        "print(f\"Akurasi: {accuracy1:.2f}%\")\n",
        "print(f\"F1 Score: {f1_1:.4f}\")\n",
        "print(f\"Precision: {precision_1:.4f}\")\n",
        "print(f\"Recall: {recall_1:.4f}\")\n",
        "\n",
        "print(\"Testing Model with Sigmoid Activation:\")\n",
        "accuracy1, f1_1, precision_1, recall_1 = test_model(model5, test_loader)\n",
        "print(f\"Akurasi: {accuracy1:.2f}%\")\n",
        "print(f\"F1 Score: {f1_1:.4f}\")\n",
        "print(f\"Precision: {precision_1:.4f}\")\n",
        "print(f\"Recall: {recall_1:.4f}\")\n",
        "\n",
        "print(\"Testing Model with Sigmoid Activation:\")\n",
        "accuracy1, f1_1, precision_1, recall_1 = test_model(model6, test_loader)\n",
        "print(f\"Akurasi: {accuracy1:.2f}%\")\n",
        "print(f\"F1 Score: {f1_1:.4f}\")\n",
        "print(f\"Precision: {precision_1:.4f}\")\n",
        "print(f\"Recall: {recall_1:.4f}\")\n",
        "\n",
        "#Latih dan uji model dengan fungsi aktivasi Tanh\n",
        "print(\"Testing Model with Tanh Activation:\")\n",
        "accuracy1, f1_1, precision_1, recall_1 = test_model(model7, test_loader)\n",
        "print(f\"Akurasi: {accuracy1:.2f}%\")\n",
        "print(f\"F1 Score: {f1_1:.4f}\")\n",
        "print(f\"Precision: {precision_1:.4f}\")\n",
        "print(f\"Recall: {recall_1:.4f}\")\n",
        "\n",
        "print(\"Testing Model with Tanh Activation:\")\n",
        "accuracy1, f1_1, precision_1, recall_1 = test_model(model8, test_loader)\n",
        "print(f\"Akurasi: {accuracy1:.2f}%\")\n",
        "print(f\"F1 Score: {f1_1:.4f}\")\n",
        "print(f\"Precision: {precision_1:.4f}\")\n",
        "print(f\"Recall: {recall_1:.4f}\")\n",
        "\n",
        "print(\"Testing Model with Tanh Activation:\")\n",
        "accuracy1, f1_1, precision_1, recall_1 = test_model(model9, test_loader)\n",
        "print(f\"Akurasi: {accuracy1:.2f}%\")\n",
        "print(f\"F1 Score: {f1_1:.4f}\")\n",
        "print(f\"Precision: {precision_1:.4f}\")\n",
        "print(f\"Recall: {recall_1:.4f}\")"
      ],
      "metadata": {
        "colab": {
          "base_uri": "https://localhost:8080/"
        },
        "id": "7dZUJmzULQr2",
        "outputId": "41927093-5cf9-42b8-aa60-6dd062bb3b7f"
      },
      "execution_count": null,
      "outputs": [
        {
          "output_type": "stream",
          "name": "stdout",
          "text": [
            "Testing Model with ReLU Activation (Konfigurasi 1):\n"
          ]
        },
        {
          "output_type": "stream",
          "name": "stderr",
          "text": [
            "/usr/local/lib/python3.10/dist-packages/sklearn/metrics/_classification.py:1344: UndefinedMetricWarning: Precision is ill-defined and being set to 0.0 in labels with no predicted samples. Use `zero_division` parameter to control this behavior.\n",
            "  _warn_prf(average, modifier, msg_start, len(result))\n"
          ]
        },
        {
          "output_type": "stream",
          "name": "stdout",
          "text": [
            "Akurasi: 19.08%\n",
            "F1 Score: 0.1220\n",
            "Precision: 0.1526\n",
            "Recall: 0.1929\n",
            "\n",
            "Testing Model with ReLU Activation (Konfigurasi 2):\n"
          ]
        },
        {
          "output_type": "stream",
          "name": "stderr",
          "text": [
            "/usr/local/lib/python3.10/dist-packages/sklearn/metrics/_classification.py:1344: UndefinedMetricWarning: Precision is ill-defined and being set to 0.0 in labels with no predicted samples. Use `zero_division` parameter to control this behavior.\n",
            "  _warn_prf(average, modifier, msg_start, len(result))\n"
          ]
        },
        {
          "output_type": "stream",
          "name": "stdout",
          "text": [
            "Akurasi: 10.14%\n",
            "F1 Score: 0.0270\n",
            "Precision: 0.0361\n",
            "Recall: 0.1003\n",
            "\n",
            "Testing Model with ReLU Activation (Konfigurasi 3):\n"
          ]
        },
        {
          "output_type": "stream",
          "name": "stderr",
          "text": [
            "/usr/local/lib/python3.10/dist-packages/sklearn/metrics/_classification.py:1344: UndefinedMetricWarning: Precision is ill-defined and being set to 0.0 in labels with no predicted samples. Use `zero_division` parameter to control this behavior.\n",
            "  _warn_prf(average, modifier, msg_start, len(result))\n"
          ]
        },
        {
          "output_type": "stream",
          "name": "stdout",
          "text": [
            "Akurasi: 7.87%\n",
            "F1 Score: 0.0434\n",
            "Precision: 0.1279\n",
            "Recall: 0.0795\n",
            "\n",
            "Testing Model with Sigmoid Activation (Konfigurasi 1):\n"
          ]
        },
        {
          "output_type": "stream",
          "name": "stderr",
          "text": [
            "/usr/local/lib/python3.10/dist-packages/sklearn/metrics/_classification.py:1344: UndefinedMetricWarning: Precision is ill-defined and being set to 0.0 in labels with no predicted samples. Use `zero_division` parameter to control this behavior.\n",
            "  _warn_prf(average, modifier, msg_start, len(result))\n"
          ]
        },
        {
          "output_type": "stream",
          "name": "stdout",
          "text": [
            "Akurasi: 9.67%\n",
            "F1 Score: 0.0179\n",
            "Precision: 0.0124\n",
            "Recall: 0.0987\n",
            "\n",
            "Testing Model with Sigmoid Activation (Konfigurasi 2):\n"
          ]
        },
        {
          "output_type": "stream",
          "name": "stderr",
          "text": [
            "/usr/local/lib/python3.10/dist-packages/sklearn/metrics/_classification.py:1344: UndefinedMetricWarning: Precision is ill-defined and being set to 0.0 in labels with no predicted samples. Use `zero_division` parameter to control this behavior.\n",
            "  _warn_prf(average, modifier, msg_start, len(result))\n"
          ]
        },
        {
          "output_type": "stream",
          "name": "stdout",
          "text": [
            "Akurasi: 9.39%\n",
            "F1 Score: 0.0174\n",
            "Precision: 0.0345\n",
            "Recall: 0.0958\n",
            "\n",
            "Testing Model with Sigmoid Activation (Konfigurasi 3):\n"
          ]
        },
        {
          "output_type": "stream",
          "name": "stderr",
          "text": [
            "/usr/local/lib/python3.10/dist-packages/sklearn/metrics/_classification.py:1344: UndefinedMetricWarning: Precision is ill-defined and being set to 0.0 in labels with no predicted samples. Use `zero_division` parameter to control this behavior.\n",
            "  _warn_prf(average, modifier, msg_start, len(result))\n"
          ]
        },
        {
          "output_type": "stream",
          "name": "stdout",
          "text": [
            "Akurasi: 10.28%\n",
            "F1 Score: 0.0186\n",
            "Precision: 0.0103\n",
            "Recall: 0.1000\n",
            "\n",
            "Testing Model with Tanh Activation (Konfigurasi 1):\n"
          ]
        },
        {
          "output_type": "stream",
          "name": "stderr",
          "text": [
            "/usr/local/lib/python3.10/dist-packages/sklearn/metrics/_classification.py:1344: UndefinedMetricWarning: Precision is ill-defined and being set to 0.0 in labels with no predicted samples. Use `zero_division` parameter to control this behavior.\n",
            "  _warn_prf(average, modifier, msg_start, len(result))\n"
          ]
        },
        {
          "output_type": "stream",
          "name": "stdout",
          "text": [
            "Akurasi: 11.43%\n",
            "F1 Score: 0.0579\n",
            "Precision: 0.0690\n",
            "Recall: 0.1189\n",
            "\n",
            "Testing Model with Tanh Activation (Konfigurasi 2):\n"
          ]
        },
        {
          "output_type": "stream",
          "name": "stderr",
          "text": [
            "/usr/local/lib/python3.10/dist-packages/sklearn/metrics/_classification.py:1344: UndefinedMetricWarning: Precision is ill-defined and being set to 0.0 in labels with no predicted samples. Use `zero_division` parameter to control this behavior.\n",
            "  _warn_prf(average, modifier, msg_start, len(result))\n"
          ]
        },
        {
          "output_type": "stream",
          "name": "stdout",
          "text": [
            "Akurasi: 7.65%\n",
            "F1 Score: 0.0383\n",
            "Precision: 0.0719\n",
            "Recall: 0.0772\n",
            "\n",
            "Testing Model with Tanh Activation (Konfigurasi 3):\n",
            "Akurasi: 8.59%\n",
            "F1 Score: 0.0266\n",
            "Precision: 0.0622\n",
            "Recall: 0.0860\n",
            "\n"
          ]
        },
        {
          "output_type": "stream",
          "name": "stderr",
          "text": [
            "/usr/local/lib/python3.10/dist-packages/sklearn/metrics/_classification.py:1344: UndefinedMetricWarning: Precision is ill-defined and being set to 0.0 in labels with no predicted samples. Use `zero_division` parameter to control this behavior.\n",
            "  _warn_prf(average, modifier, msg_start, len(result))\n"
          ]
        }
      ]
    },
    {
      "cell_type": "markdown",
      "source": [
        "Kesimpulannya, menunjukkan perbandingan performa model dengan aktivasi fungsi yang berbeda. Hal ini membantu untuk memahami dan membandingkan kinerja model dengan berbagai aktivasi fungsi pada situasi yang berbeda. Setiap model dievaluasi dengan berbagai metrik dan hasil evaluasi dilihat bahwa performa model (dalam hal akurasi, F1 score, precision, dan recall) dapat bervariasi tergantung pada jenis fungsi aktivasi yang digunakan yaitu ReLu, Sigmoid, dan Tanh. Masing-masing model mendapatkan nilai akurasi sebagai berikut.\n",
        "* model ReLu dengan akurasi sebesar 0.9147\n",
        "* model Sigmoid dengan akurasi sebesar 0.8618\n",
        "* model Tanh dengan akurasi sebesar 0.9112\n",
        "\n",
        "Dapat simpulkan bahwa dengan menggunakan model ReLu mendapatkan hasil akurasi tertinggi sebesar 0.9147 dibandingkan Sigmoid dan Tanh."
      ],
      "metadata": {
        "id": "HBEsp9cKlSMJ"
      }
    }
  ]
}